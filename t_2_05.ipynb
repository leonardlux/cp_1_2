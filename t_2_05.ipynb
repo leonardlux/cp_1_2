{
 "cells": [
  {
   "cell_type": "markdown",
   "metadata": {},
   "source": [
    "### Task 2.5\n",
    "\n",
    "$Q$ : Write down and implement a Crank-Nicolson scheme to solve numerically the two problems mentioned above (i.e. bounded with either reflective or absorbing boundaries). Get help from the slides of the lecture. You will treat with great care and justification the numerical implementation of the Dirac-δ. To solve the linear system that you will end up with, you may implement your own tridiagonal solver or use one from a library.\n",
    "\n",
    "$A$ : \n",
    "Crank-Nicolson scheme:\n",
    "$$ \\frac{u^n_{i+1} - u^n_i}{\\Delta t} =  \\frac{D}{2} \\left[  \\frac{ (u^{i+1}_{n+1} - 2u^{i+1}_{n} + u^{i+1}_{n-1}) + (u^{i}_{n+1} - 2u^{i}_{n} + u^{i}_{n-1})}{(\\Delta x)^2}  \\right] $$\n",
    "\n",
    "where $n$ is the time variable, and $i$ is the grid position variable.\n",
    "\n",
    "Rearranged to:\n",
    "\n",
    "\n",
    "$$ {u^n_{i+1}} =  u^n_i + \\frac{D \\cdot \\Delta t}{2(\\Delta x)^2} \\left[  { (u^{i+1}_{n+1} - 2u^{i+1}_{n} + u^{i+1}_{n-1}) + (u^{i}_{n+1} - 2u^{i}_{n} + u^{i}_{n-1})}  \\right] $$\n",
    "\n",
    "$$ {u^n_{i+1}} =  u^n_i + \\alpha \\left[  { (u^{i+1}_{n+1} - 2u^{i+1}_{n} + u^{i+1}_{n-1}) + (u^{i}_{n+1} - 2u^{i}_{n} + u^{i}_{n-1})}  \\right] $$\n",
    "\n",
    "with:\n",
    "\n",
    "$$ \n",
    "\\alpha = \\frac{D \\cdot \\Delta t}{2 \\cdot (\\Delta x)^2}\n",
    "$$\n",
    "\n",
    "Please note that I included the factor $1/2$ in $\\alpha$. This differs from the lecture\n",
    "\n",
    "\n",
    "Can be rewritten as a Matrix multiplication, for all elements of the 1d line with N discrete points.\n",
    "\n",
    "$$\n",
    "\\mathbf{A} \\ \\mathbf{U}^{n+1} = \\mathbf{B} \\ \\mathbf{U}^n\n",
    "$$\n",
    "\n",
    ", with:\n",
    "\n",
    "$$\n",
    "\\mathbf{U}^T= (u_1, u_2, ..., u_n , ... ,u_{N-1}, u_{N}) .\n",
    "$$\n",
    "\n",
    "\n",
    "For matrix $\\mathbf{A}$ main diagonal consists of $N$ times $(1+2 \\cdot \\alpha)$.\n",
    "\n",
    "\n",
    "With the adjacent diagonal consisting of $(N-1)$ times $(-\\alpha)$\n",
    "\n",
    "\n",
    "For matrix $\\mathbf{B}$ main diagonal consists of $N$ times $(1-2 \\cdot \\alpha)$.\n",
    "\n",
    "\n",
    "With the adjacent diagonal consisting of $(N-1)$ times $(\\alpha)$"
   ]
  },
  {
   "cell_type": "markdown",
   "metadata": {},
   "source": [
    "#### About dirac \n",
    "\n",
    "We can implement the dirac function as one point with the value: $\\tilde{u}_0/\\Delta x$ where $\\Delta x$ is the length between two points. This is need to represent the integral correctly in the numerical implementation:\n",
    "\n",
    "$\\int_0^L u(x) = \\tilde{u}_0 = f(x_0,t=0)\\cdot \\Delta x$"
   ]
  },
  {
   "cell_type": "code",
   "execution_count": 1,
   "metadata": {},
   "outputs": [
    {
     "name": "stdout",
     "output_type": "stream",
     "text": [
      "alpha = 0.05\n",
      "Please note, my alpha differs by a factor of 1/2 from the alpha from the lecture.\n",
      "alpha lecture / 2 = my used alpha  \n",
      "I adjusted this due to my derivation for Task 2.9 and to make alpha more comparable.\n"
     ]
    }
   ],
   "source": [
    "# codebase to generate values\n",
    "import simulation as sim\n",
    "import analytical as analy\n",
    "\n",
    "# codebase to plot stuff\n",
    "import plots as pl "
   ]
  },
  {
   "cell_type": "code",
   "execution_count": 2,
   "metadata": {},
   "outputs": [],
   "source": [
    "# config file\n",
    "import config as c"
   ]
  },
  {
   "cell_type": "code",
   "execution_count": 3,
   "metadata": {},
   "outputs": [],
   "source": [
    "# all combinations: \n",
    "boundary_conditions = [\"neumann\", \"dirichlet\"]\n",
    "distributions = [\"dirac\"] \n",
    "\n",
    "# Simulations\n",
    "U_sims = []\n",
    "for bc in boundary_conditions:\n",
    "    for dist in distributions:\n",
    "        U_sims.append(sim.Simulation(\n",
    "            boundary_condition=bc,\n",
    "            distribution=dist))"
   ]
  },
  {
   "cell_type": "code",
   "execution_count": 4,
   "metadata": {},
   "outputs": [
    {
     "data": {
      "application/vnd.jupyter.widget-view+json": {
       "model_id": "cc6dddd6188746e59c67e4ad2317c30c",
       "version_major": 2,
       "version_minor": 0
      },
      "text/plain": [
       "interactive(children=(IntSlider(value=25000, description='t', max=50000, step=100), Output()), _dom_classes=('…"
      ]
     },
     "metadata": {},
     "output_type": "display_data"
    }
   ],
   "source": [
    "pl.sketches(U_sims=U_sims)"
   ]
  }
 ],
 "metadata": {
  "kernelspec": {
   "display_name": "Python 3",
   "language": "python",
   "name": "python3"
  },
  "language_info": {
   "codemirror_mode": {
    "name": "ipython",
    "version": 3
   },
   "file_extension": ".py",
   "mimetype": "text/x-python",
   "name": "python",
   "nbconvert_exporter": "python",
   "pygments_lexer": "ipython3",
   "version": "3.11.7"
  }
 },
 "nbformat": 4,
 "nbformat_minor": 2
}
