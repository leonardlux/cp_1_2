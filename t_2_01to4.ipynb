{
 "cells": [
  {
   "cell_type": "markdown",
   "metadata": {},
   "source": [
    "# Assignment 1\n",
    "\n",
    "## 2 The diffusion equation\n",
    "\n",
    "case of constant diffusivity:\n",
    "$$\n",
    "\\frac{\\partial u}{\\partial t} = D \\frac{\\partial^2 u}{\\partial x^2}\n",
    "$$\n",
    "\n",
    "initial distribution\n",
    "$$\n",
    "u(x,0) = \\tilde{u}_0 \\delta (x - x_0)\n",
    "$$"
   ]
  },
  {
   "cell_type": "markdown",
   "metadata": {},
   "source": [
    "### Task 2.1\n",
    "\n",
    "$Q$ : What are the dimensions of $D$ and $\\tilde{u}_0$ expressed in time, length and [$u$] (dimension\n",
    "of $u$)? Has $\\delta(x − x_0)$ a dimension?\n",
    "\n",
    "$A$ : \n",
    "$$ [D] = \\frac{Length^2}{Time}$$\n",
    "$$[\\tilde{u}_0]= [u]\\cdot Length $$  \n",
    "[comment]: <> (= \\frac{mass}{length}, wissen ja nicht das es eine masse ist)\n",
    "$$[\\delta (x - x_0)] = \\frac{1}{Length}$$\n"
   ]
  },
  {
   "cell_type": "markdown",
   "metadata": {},
   "source": [
    "### Task 2.2\n",
    "\n",
    "$Q$ : For an unbounded system, say modelling a drop of ink in a lake, what are the\n",
    "boundary conditions?\n",
    "\n",
    "$A$ : If the system is truly unbound, as in there exist no finite border and the system size in infinity, we do not have boundary conditions, other than \n",
    "$$  \\lim_{x\\to \\pm \\inf} u(x)= 0\\ .$$\n"
   ]
  },
  {
   "cell_type": "markdown",
   "metadata": {},
   "source": [
    "### Task 2.3 \n",
    "$Q$ : Same question, for a system bounded to $[a,b]$, where $a,b \\in \\R,a < b$, with (i) re- flective boundaries at $a$ and $b$, say modelling a drop of ink in a glass of water, (ii) perfectly absorbent boundaries.\n",
    "\n",
    "$A$ : \n",
    "\n",
    "(i) re-felective, therefore nothing flows through the boundary:\n",
    "$$\n",
    "\\frac{\\partial}{\\partial x} u(c,t) = 0,\\  c \\in [a,b]\n",
    "$$\n",
    "this is a kind of von Neumann boundary condition.\n",
    "\n",
    "(ii) perfectly absorbent boundaries, therefore the concentration at the boundary vanishes, because it can not rejoin the system:\n",
    "$$\n",
    "u(c,t) = 0, \\  c \\in [a,b]\n",
    "$$\n",
    "this is a kind of Dirichlet boundary condition."
   ]
  },
  {
   "cell_type": "markdown",
   "metadata": {},
   "source": [
    "### Task 2.4\n",
    "\n",
    "$Q$ : Assuming that the only source was the one at time $t = 0$, write an equation that translates the conservation of the total ’mass’ $\\tilde{u}_0$.\n",
    "\n",
    "$A$ : Conversion of mass: \n",
    "\n",
    "Global scale: \n",
    "$$\n",
    "\\int_a^b u(x,t) dx = \\tilde{u}_0\n",
    "$$\n",
    "\n",
    "Local scale: \n",
    "$$\n",
    "\\nabla u \\stackrel{1d}{=} \\frac{\\partial u}{\\partial x} = 0\n",
    "$$"
   ]
  }
 ],
 "metadata": {
  "language_info": {
   "name": "python"
  }
 },
 "nbformat": 4,
 "nbformat_minor": 2
}
