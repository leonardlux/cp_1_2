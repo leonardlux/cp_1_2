{
 "cells": [
  {
   "cell_type": "markdown",
   "metadata": {},
   "source": [
    "### Task 2.7 (Analytical solution without boundary condition)\n",
    "\n",
    "$Q$ : \n",
    "\n",
    "1. Do you expect the above solution to be a good approximation for the bounded problems? \n",
    "2. Discuss the validity and quality of the approximation with respect to the parameters at hand (time, length of the domain, diffusion constant). \n",
    "3. Check if the above solution and your numerical solutions match in the region of validity you have identified.\n",
    "    + Hint: the validity region can be expressed as a short time condition $t < \\tau$ where you will estimate $\\tau$ by dimensional analysis as a function of $D$, and the length of the domain.\n",
    "\n",
    "$A$ : Problems\n",
    "\n",
    "+ Beginning nearly identical \n",
    "+ Changes for bigger t due to different boundary conditions and starting at the border\n",
    "\n",
    "Region of validity: \n",
    "\n",
    "We see that the analytical solution is just a gaussian distribution, with a scaling factor of $\\tilde{u}_0$\n",
    "$$ \n",
    "u(x,t)\n",
    "\n",
    "= \\tilde{u}_0  \\frac{1}{\\sigma \\sqrt{2\\pi}} e^{\\frac{ - \\left( {x - \\mu } \\right)^2 }{{2\\sigma ^2 }}}\n",
    "\n",
    "\n",
    "= \\tilde{u}_0  \\frac{1}{\\sqrt{2Dt} \\sqrt{2\\pi}} e^{\\frac{ - \\left( {x - \\mu } \\right)^2 }{{2 (\\sqrt{2Dt}) ^2 }}}\n",
    "\n",
    "$$\n",
    "\n",
    "Therefore we can clearly identify $\\sigma = \\sqrt{2Dt}$.\n",
    "\n",
    "With previous knowledge about the gaussian Distribution, we know that an intervall of $\\pm 3 \\sigma$ contains $\\approx 99.7 \\%$ of the distribution. If that much of the distribution lays on the allowed intervall, the border condition can be neglected. As an equation:\n",
    "\n",
    "$$\n",
    "(x_{boundary} - x_0) = 3\\sqrt{D \\tau}\n",
    "$$\n",
    "\n",
    "Therefore:\n",
    "\n",
    "$$ \n",
    "\\tau = \\frac{(x_{boundary} - x_0)^2 }{9 D} \n",
    "$$\n",
    "\n",
    "where $x_{boundary}$ is the location of the nearest boundary.\n",
    "\n",
    "In this area I expect this solution to be a good approximation\n",
    "\n",
    "\n",
    "### ToDo\n",
    "\n",
    "+ good Expectation?\n",
    "+ Quality of approximation?"
   ]
  },
  {
   "cell_type": "code",
   "execution_count": 1,
   "metadata": {},
   "outputs": [
    {
     "name": "stdout",
     "output_type": "stream",
     "text": [
      "alpha = 0.05\n",
      "Please note, my alpha differs by a factor of 1/2 from the alpha from the lecture.\n",
      "alpha lecture / 2 = my used alpha  \n",
      "I adjusted this due to my derivation for Task 2.9 and to make alpha more comparable.\n"
     ]
    }
   ],
   "source": [
    "# codebase to generate values\n",
    "import simulation as sim\n",
    "import analytical as analy\n",
    "\n",
    "# codebase to plot stuff\n",
    "import plots as pl "
   ]
  },
  {
   "cell_type": "code",
   "execution_count": 2,
   "metadata": {},
   "outputs": [],
   "source": [
    "# config file\n",
    "import config as c"
   ]
  },
  {
   "cell_type": "code",
   "execution_count": 3,
   "metadata": {},
   "outputs": [],
   "source": [
    "# used to update module\n",
    "import importlib\n",
    "importlib.reload(pl);\n",
    "#; is used to supress the automatic output"
   ]
  },
  {
   "cell_type": "code",
   "execution_count": 4,
   "metadata": {},
   "outputs": [],
   "source": [
    "# Start with Simulation\n",
    "# all combinations: \n",
    "boundary_conditions = [\"neumann\", \"dirichlet\"]\n",
    "distributions = [\"dirac\"]#[\"gauss\",\"dirac\",\"dirac_approx\"]\n",
    "\n",
    "# Simulations\n",
    "U_sims = []\n",
    "for bc in boundary_conditions:\n",
    "    for dist in distributions:\n",
    "        U_sims.append(sim.Simulation(\n",
    "            boundary_condition=bc,\n",
    "            distribution=dist))"
   ]
  },
  {
   "cell_type": "code",
   "execution_count": 5,
   "metadata": {},
   "outputs": [],
   "source": [
    "#analytical solution without boundary conditions\n",
    "analy_data_dict = {\n",
    "    \"U\": analy.analytical_solution(c.t_g,c.x_g,),\n",
    "    \"title\": \"Analytical Solution\",\n",
    "}\n",
    "\n",
    "U_sims.append(sim.Simulation(overwrite=True,data_dict=analy_data_dict))"
   ]
  },
  {
   "cell_type": "code",
   "execution_count": 6,
   "metadata": {},
   "outputs": [
    {
     "data": {
      "application/vnd.jupyter.widget-view+json": {
       "model_id": "c9cf863e20ca41dfa4d0c0ccea4da673",
       "version_major": 2,
       "version_minor": 0
      },
      "text/plain": [
       "interactive(children=(IntSlider(value=25000, description='t', max=50000, step=100), Output()), _dom_classes=('…"
      ]
     },
     "metadata": {},
     "output_type": "display_data"
    }
   ],
   "source": [
    "pl.sketches(U_sims);"
   ]
  }
 ],
 "metadata": {
  "kernelspec": {
   "display_name": "Python 3",
   "language": "python",
   "name": "python3"
  },
  "language_info": {
   "codemirror_mode": {
    "name": "ipython",
    "version": 3
   },
   "file_extension": ".py",
   "mimetype": "text/x-python",
   "name": "python",
   "nbconvert_exporter": "python",
   "pygments_lexer": "ipython3",
   "version": "3.11.7"
  }
 },
 "nbformat": 4,
 "nbformat_minor": 2
}
