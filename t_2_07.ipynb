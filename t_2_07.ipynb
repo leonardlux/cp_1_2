{
 "cells": [
  {
   "cell_type": "markdown",
   "metadata": {},
   "source": [
    "### Task 2.7 (Analytical solution without boundary condition)\n",
    "\n",
    "$Q$ : \n",
    "\n",
    "1. Do you expect the above solution to be a good approximation for the bounded problems? \n",
    "2. Discuss the validity and quality of the approximation with respect to the parameters at hand (time, length of the domain, diffusion constant). \n",
    "3. Check if the above solution and your numerical solutions match in the region of validity you have identified.\n",
    "    + Hint: the validity region can be expressed as a short time condition $t < \\tau$ where you will estimate $\\tau$ by dimensional analysis as a function of $D$, and the length of the domain.\n",
    "\n",
    "$A$ : Problems\n",
    "+ Normalizations is completly different (analytical is to big)\n",
    "  + The starting values need to be defined differently, in the numerical solutions: \n",
    "  $$\n",
    "  start = \\frac{\\tilde{u}_0}{\\sqrt{4\\pi D t}}\n",
    "  $$\n",
    "\n",
    "+ Beginning nearly identical \n",
    "+ Changes for bigger t due to different boundary conditions and starting at the border\n",
    "\n",
    "### ToDo\n",
    "\n",
    "+ Expectation\n",
    "+ Region of validay \n",
    "+ Quality of approximation\n",
    "+ Actually answer the Question"
   ]
  },
  {
   "cell_type": "code",
   "execution_count": 2,
   "metadata": {},
   "outputs": [
    {
     "name": "stdout",
     "output_type": "stream",
     "text": [
      "alpha = 0.2\n",
      "Please note, my alpha differs by a factor of 1/2 from the alpha from the lecture.\n",
      "alpha lecture / 2 = my used alpha  \n",
      "I adjusted this due to my derivation for Task 2.9 and to make alpha more comparable.\n"
     ]
    }
   ],
   "source": [
    "# codebase to generate values\n",
    "import simulation as sim\n",
    "import analytical as analy\n",
    "\n",
    "# codebase to plot stuff\n",
    "import plots as pl "
   ]
  },
  {
   "cell_type": "code",
   "execution_count": 3,
   "metadata": {},
   "outputs": [],
   "source": [
    "# config file\n",
    "import config as c"
   ]
  },
  {
   "cell_type": "code",
   "execution_count": 4,
   "metadata": {},
   "outputs": [],
   "source": [
    "# used to update module\n",
    "import importlib\n",
    "importlib.reload(pl);\n",
    "#; is used to supress the automatic output"
   ]
  },
  {
   "cell_type": "code",
   "execution_count": 5,
   "metadata": {},
   "outputs": [],
   "source": [
    "# Start with Simulation\n",
    "# all combinations: \n",
    "boundary_conditions = [\"neumann\", \"dirichlet\"]\n",
    "distributions = [\"dirac\"]#[\"gauss\",\"dirac\",\"dirac_approx\"]\n",
    "\n",
    "# Simulations\n",
    "U_sims = []\n",
    "for bc in boundary_conditions:\n",
    "    for dist in distributions:\n",
    "        U_sims.append(sim.Simulation(bc,dist))"
   ]
  },
  {
   "cell_type": "code",
   "execution_count": 6,
   "metadata": {},
   "outputs": [],
   "source": [
    "#analytical solution without boundary conditions\n",
    "analy_data_dict = {\n",
    "    \"U\": analy.analytical_solution(c.t_g,c.x_g,renomarlize=False),\n",
    "    \"title\": \"Analytical Solution\",\n",
    "}\n",
    "\n",
    "U_sims.append(sim.Simulation(overwrite=True,data_dict=analy_data_dict))"
   ]
  },
  {
   "cell_type": "code",
   "execution_count": 7,
   "metadata": {},
   "outputs": [
    {
     "data": {
      "application/vnd.jupyter.widget-view+json": {
       "model_id": "1da4d467e62b489ab844081410d25a8e",
       "version_major": 2,
       "version_minor": 0
      },
      "text/plain": [
       "interactive(children=(IntSlider(value=25000, description='t', max=50000, step=100), Output()), _dom_classes=('…"
      ]
     },
     "metadata": {},
     "output_type": "display_data"
    }
   ],
   "source": [
    "pl.sketches(U_sims);"
   ]
  }
 ],
 "metadata": {
  "kernelspec": {
   "display_name": "Python 3",
   "language": "python",
   "name": "python3"
  },
  "language_info": {
   "codemirror_mode": {
    "name": "ipython",
    "version": 3
   },
   "file_extension": ".py",
   "mimetype": "text/x-python",
   "name": "python",
   "nbconvert_exporter": "python",
   "pygments_lexer": "ipython3",
   "version": "3.11.7"
  }
 },
 "nbformat": 4,
 "nbformat_minor": 2
}
