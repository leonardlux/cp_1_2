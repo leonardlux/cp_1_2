{
 "cells": [
  {
   "cell_type": "markdown",
   "metadata": {},
   "source": [
    "# ToDo\n",
    "\n",
    "\n",
    "\n",
    "2. Simulationen speichern können, damit ich nicht immer alles neu berechnen muss\n",
    "\n",
    "+ Region of stability, validity region $\\tau$\n",
    "+ validity region of $\\tau$ is where the distribution did not reach the boundary with a significant amount of the distr. (95% ?)\n",
    "\n",
    "    * change parameters to change $\\alpha$ to find non physical solutions\n",
    "\n",
    "    * Discuss the validity and quality of the approximation with respect to the parameters at hand \n",
    "    \n",
    "\n",
    "+ Color all distr same color and all border conditions same style (dots etc.)\n",
    "\n",
    "4. scatter instead of plot\n",
    "\n",
    "4. Refactorize config, to be able to set custom config for sim.\n",
    "\n",
    "2. check what the normalization of gaussian should be\n",
    "\n",
    "\n",
    "## done\n",
    "\n",
    "+ add mask for t for analytical solution\n",
    "    + hier in billig einfach alles andere mit nullen gefüllt\n",
    "    + sollte ich hier die null matrix auf eine 0 setzten damit ich fehler bekomme wenn ich das plotte?"
   ]
  }
 ],
 "metadata": {
  "language_info": {
   "name": "python"
  }
 },
 "nbformat": 4,
 "nbformat_minor": 2
}
