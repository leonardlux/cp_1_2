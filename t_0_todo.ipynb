{
 "cells": [
  {
   "cell_type": "markdown",
   "metadata": {},
   "source": [
    "# ToDo\n",
    "\n",
    "2. check what the normalization of gaussian should be\n",
    "\n",
    "3. how do i implement the boundary conditions\n",
    "4. wieso änder ich überhaut was bei dirichlet boundary conditions\n",
    "\n",
    "3. Simulationen speichern können, damit ich nicht immer alles neu berechnen muss\n",
    "\n",
    "+ Region of stability, validity region $\\tau$\n",
    "\n",
    "    * change parameters to change $\\alpha$ to find non physical solutions\n",
    "\n",
    "    * Discuss the validity and quality of the approximation with respect to the parameters at hand\n",
    "    \n",
    "    * code should be in github\n",
    "\n",
    "+ Inital distribution in analytical\n",
    "\n",
    "+ Color all distr same color and all border conditions same style (dots etc.)\n",
    "\n",
    "3. implement  D(x)\n",
    "\n",
    "4. scatter instead of plot\n",
    "\n",
    "4. Refactorize config, to be able to set custom config for sim.\n",
    "\n",
    "\n",
    "\n",
    "\n",
    "## done\n",
    "\n",
    "+ add mask for t for analytical solution\n",
    "    + hier in billig einfach alles andere mit nullen gefüllt\n",
    "    + sollte ich hier die null matrix auf eine 0 setzten damit ich fehler bekomme wenn ich das plotte?"
   ]
  }
 ],
 "metadata": {
  "language_info": {
   "name": "python"
  }
 },
 "nbformat": 4,
 "nbformat_minor": 2
}
