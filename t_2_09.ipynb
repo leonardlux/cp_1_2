{
 "cells": [
  {
   "cell_type": "markdown",
   "metadata": {},
   "source": [
    "### Task 2.9 \n",
    "\n",
    "$Q$ : Derive a Crank-Nicolson scheme in this case ($D(x)$), implement it and solve the problems again with a constant diffusivity, and a step profile of diffusivity.\n",
    "\n",
    "$A$ :"
   ]
  },
  {
   "cell_type": "code",
   "execution_count": null,
   "metadata": {},
   "outputs": [],
   "source": [
    "# codebase to generate values\n",
    "import simulation as sim\n",
    "import analytical as analy\n",
    "\n",
    "# codebase to plot stuff\n",
    "import plots as pl "
   ]
  },
  {
   "cell_type": "code",
   "execution_count": null,
   "metadata": {},
   "outputs": [],
   "source": [
    "# config file\n",
    "import config as c"
   ]
  },
  {
   "cell_type": "code",
   "execution_count": null,
   "metadata": {},
   "outputs": [],
   "source": [
    "# used to update module\n",
    "import importlib\n",
    "importlib.reload(sim)"
   ]
  },
  {
   "cell_type": "code",
   "execution_count": 15,
   "metadata": {},
   "outputs": [],
   "source": [
    "# Start with simulation\n",
    "\n",
    "# all combinations: \n",
    "boundary_conditions = [\"neumann\", \"dirichlet\"]\n",
    "distributions = [\"dirac\",]\n",
    "diags_gen = [\"general\"]\n",
    "d_func = [\"constant\", \"step\"]\n",
    "\n",
    "# Simulations\n",
    "U_sims = []\n",
    "for dist in distributions:\n",
    "    for dia_g in diags_gen:\n",
    "        for d_f in d_func:\n",
    "            for bc in boundary_conditions:\n",
    "                U_sims.append(sim.Simulation(\n",
    "                        distribution       = dist,\n",
    "                        diags_gen          = dia_g,\n",
    "                        d_func             = d_f,\n",
    "                        boundary_condition = bc, \n",
    "                        ))\n",
    "for bc in boundary_conditions:\n",
    "    U_sims.append(sim.Simulation(\n",
    "        distribution       = \"dirac\",\n",
    "        diags_gen          = \"simpel\",\n",
    "        d_func             = \"constant\",\n",
    "        boundary_condition = bc, \n",
    "        ))"
   ]
  },
  {
   "cell_type": "code",
   "execution_count": 16,
   "metadata": {},
   "outputs": [
    {
     "data": {
      "application/vnd.jupyter.widget-view+json": {
       "model_id": "f4a053e16a294fbd87cc0887eb518c39",
       "version_major": 2,
       "version_minor": 0
      },
      "text/plain": [
       "interactive(children=(IntSlider(value=25000, description='t', max=50000, step=100), Output()), _dom_classes=('…"
      ]
     },
     "metadata": {},
     "output_type": "display_data"
    }
   ],
   "source": [
    "pl.sketches(U_sims)"
   ]
  },
  {
   "cell_type": "code",
   "execution_count": 18,
   "metadata": {},
   "outputs": [
    {
     "name": "stdout",
     "output_type": "stream",
     "text": [
      "100.49999999742809\n",
      "27.07226855531202\n",
      "48.94751695285369\n",
      "3.303930419889971\n",
      "100.49999999742809\n",
      "27.07226855531202\n"
     ]
    }
   ],
   "source": [
    "import numpy as np\n",
    "for U in U_sims:\n",
    "    print(np.sum(U.U[-1]))"
   ]
  }
 ],
 "metadata": {
  "kernelspec": {
   "display_name": "Python 3",
   "language": "python",
   "name": "python3"
  },
  "language_info": {
   "codemirror_mode": {
    "name": "ipython",
    "version": 3
   },
   "file_extension": ".py",
   "mimetype": "text/x-python",
   "name": "python",
   "nbconvert_exporter": "python",
   "pygments_lexer": "ipython3",
   "version": "3.11.7"
  }
 },
 "nbformat": 4,
 "nbformat_minor": 2
}
