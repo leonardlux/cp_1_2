{
 "cells": [
  {
   "cell_type": "markdown",
   "metadata": {},
   "source": [
    "### Task 2.8 (Analytical solutions with boundary conditions)\n",
    "\n",
    "$Q$ : Compare your numerical solutions to the exact solutions.\n",
    "\n",
    "$A$ :\n",
    "\n",
    "# ToDo:\n",
    "\n",
    "Probleme:\n",
    "Wie kann ich effizient die plots miteinander vergleichen:\n",
    "\n",
    "1. Idee:\n",
    "    + beschränke t auf t_g[:1000:100]\n",
    "    + damit könnte ich noch sketches verwenden und die ersten tausen schritte analysieren\n",
    "    + ich muss dann aber die leeren stellen füllen damit ich das machen kann... "
   ]
  },
  {
   "cell_type": "code",
   "execution_count": null,
   "metadata": {},
   "outputs": [],
   "source": [
    "# Standard libaries\n",
    "import numpy as np"
   ]
  },
  {
   "cell_type": "code",
   "execution_count": null,
   "metadata": {},
   "outputs": [],
   "source": [
    "# codebase to generate values\n",
    "import simulation as sim\n",
    "import analytical as analy\n",
    "\n",
    "# codebase to plot stuff\n",
    "import plots as pl "
   ]
  },
  {
   "cell_type": "code",
   "execution_count": null,
   "metadata": {},
   "outputs": [],
   "source": [
    "# config file\n",
    "import config as c"
   ]
  },
  {
   "cell_type": "code",
   "execution_count": null,
   "metadata": {},
   "outputs": [],
   "source": [
    "# used to update module\n",
    "import importlib\n",
    "importlib.reload(pl);"
   ]
  },
  {
   "cell_type": "code",
   "execution_count": null,
   "metadata": {},
   "outputs": [],
   "source": [
    "# Start with simulation\n",
    "\n",
    "# all combinations: \n",
    "boundary_conditions = [\"neumann\", \"dirichlet\"]\n",
    "distributions = [\"dirac\"] \n",
    "\n",
    "# Simulations\n",
    "U_sims = [[], # neumann bc\n",
    "          [], # dirichlet bc\n",
    "          ]\n",
    "for i,bc in enumerate(boundary_conditions):\n",
    "    for dist in distributions:\n",
    "        U_sims[i].append(sim.Simulation(\n",
    "            boundary_condition=bc,\n",
    "            distribution=dist))"
   ]
  },
  {
   "cell_type": "code",
   "execution_count": null,
   "metadata": {},
   "outputs": [],
   "source": [
    "# analytical solutions\n",
    "# we dont need every time step, that would be to computational inefficent\n",
    "t_i_analy_step_size = 100\n",
    "t_i_analy_steps = int(c.n_t/t_i_analy_step_size)\n",
    "\n",
    "t_analytical = c.t_g[:t_i_analy_step_size * t_i_analy_steps :t_i_analy_step_size]\n",
    "n_max = 100\n",
    "\n",
    "def interspace_t(u_reduced):\n",
    "    # This adds zeors, so that the simulation and the analytical solutions have the same length and shape\n",
    "    # This is used so that, sketches can be used\n",
    "    u = np.zeros((c.n_t,c.n_x))\n",
    "    for i in range(t_i_analy_steps):\n",
    "        u[i*t_i_analy_step_size] = u_reduced[i]\n",
    "    return u"
   ]
  },
  {
   "cell_type": "code",
   "execution_count": null,
   "metadata": {},
   "outputs": [],
   "source": [
    "# Analytical solutions\n",
    "boundary_conditions = [\"Neumann\", \"Dirichlet\"]\n",
    "for i, cond in enumerate(boundary_conditions):\n",
    "    u_small = analy.analytical_solution_boundary(t_analytical,c.x_g,cond=cond,n_max=n_max)\n",
    "\n",
    "    # interspaced\n",
    "    u_analy_data_dict =  { \n",
    "        \"U\": interspace_t(u_small),\n",
    "        \"title\": f\"anly. sol. BC: {cond}\"\n",
    "        }\n",
    "    U_analy = sim.Simulation(overwrite=True,data_dict=u_analy_data_dict)\n",
    "    U_sims[i].append(U_analy)"
   ]
  },
  {
   "cell_type": "code",
   "execution_count": null,
   "metadata": {
    "vscode": {
     "languageId": "javascript"
    }
   },
   "outputs": [],
   "source": [
    "pl.sketches(U_sims=U_sims[0],t_i_max=t_i_analy_step_size*(t_i_analy_steps-1))"
   ]
  },
  {
   "cell_type": "code",
   "execution_count": null,
   "metadata": {},
   "outputs": [],
   "source": [
    "pl.sketches(U_sims=U_sims[1],t_i_max=t_i_analy_step_size*(t_i_analy_steps-1))"
   ]
  }
 ],
 "metadata": {
  "kernelspec": {
   "display_name": "Python 3",
   "language": "python",
   "name": "python3"
  },
  "language_info": {
   "codemirror_mode": {
    "name": "ipython",
    "version": 3
   },
   "file_extension": ".py",
   "mimetype": "text/x-python",
   "name": "python",
   "nbconvert_exporter": "python",
   "pygments_lexer": "ipython3",
   "version": "3.11.7"
  }
 },
 "nbformat": 4,
 "nbformat_minor": 2
}
