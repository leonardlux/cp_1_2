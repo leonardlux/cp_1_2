{
 "cells": [
  {
   "cell_type": "markdown",
   "metadata": {},
   "source": [
    "### Task 2.10 \n",
    "\n",
    "$Q$ : \n",
    "\n",
    "$A$ :"
   ]
  },
  {
   "cell_type": "code",
   "execution_count": null,
   "metadata": {},
   "outputs": [],
   "source": [
    "# codebase to generate values\n",
    "import simulation as sim\n",
    "import analytical as analy\n",
    "\n",
    "# codebase to plot stuff\n",
    "import plots as pl \n",
    "%matplotlib widget"
   ]
  },
  {
   "cell_type": "code",
   "execution_count": null,
   "metadata": {},
   "outputs": [],
   "source": [
    "# config file\n",
    "import config as c"
   ]
  },
  {
   "cell_type": "code",
   "execution_count": null,
   "metadata": {},
   "outputs": [],
   "source": [
    "# used to update module\n",
    "import importlib\n",
    "importlib.reload(pl)"
   ]
  },
  {
   "cell_type": "code",
   "execution_count": null,
   "metadata": {},
   "outputs": [],
   "source": [
    "# Start with simulation\n",
    "\n",
    "# all combinations: \n",
    "boundary_conditions = [\"neumann\", \"dirichlet\"]\n",
    "distributions = [\"gauss\",\"dirac\",\"dirac_approx\"]\n",
    "\n",
    "# Simulations\n",
    "U_sims = []\n",
    "for bc in boundary_conditions:\n",
    "    for dist in distributions:\n",
    "        U_sims.append(sim.Simulation(bc,dist))"
   ]
  }
 ],
 "metadata": {
  "kernelspec": {
   "display_name": "Python 3",
   "language": "python",
   "name": "python3"
  },
  "language_info": {
   "name": "python",
   "version": "3.11.7"
  }
 },
 "nbformat": 4,
 "nbformat_minor": 2
}
